{
  "nbformat": 4,
  "nbformat_minor": 0,
  "metadata": {
    "colab": {
      "provenance": []
    },
    "kernelspec": {
      "name": "python3",
      "display_name": "Python 3"
    },
    "language_info": {
      "name": "python"
    }
  },
  "cells": [
    {
      "cell_type": "code",
      "execution_count": 1,
      "metadata": {
        "id": "l1gTRC7UhoqM"
      },
      "outputs": [],
      "source": [
        "import pandas as pd\n",
        "import numpy as np\n",
        "import seaborn as sns\n",
        "import matplotlib.pyplot as plt"
      ]
    },
    {
      "cell_type": "code",
      "source": [
        "df = pd.read_csv('/content/walmart_stock_prices.csv')"
      ],
      "metadata": {
        "id": "amB6j2y4ijrO"
      },
      "execution_count": 7,
      "outputs": []
    },
    {
      "cell_type": "code",
      "source": [
        "df.head()"
      ],
      "metadata": {
        "id": "rdKnskNAiy3j",
        "outputId": "6d5014c1-d57d-4ae4-b69f-954a82282ad2",
        "colab": {
          "base_uri": "https://localhost:8080/",
          "height": 504
        }
      },
      "execution_count": 8,
      "outputs": [
        {
          "output_type": "execute_result",
          "data": {
            "text/plain": [
              "                        Date      Open      High       Low     Close   Volume  \\\n",
              "0  1972-08-25 00:00:00-04:00  0.011463  0.011683  0.011463  0.011639  7526400   \n",
              "1  1972-08-28 00:00:00-04:00  0.011639  0.011727  0.011595  0.011595  2918400   \n",
              "2  1972-08-29 00:00:00-04:00  0.011551  0.011551  0.011463  0.011463  5836800   \n",
              "3  1972-08-30 00:00:00-04:00  0.011463  0.011463  0.011374  0.011463  1228800   \n",
              "4  1972-08-31 00:00:00-04:00  0.011374  0.011374  0.011286  0.011286  2611200   \n",
              "\n",
              "   Dividends  Stock Splits  \n",
              "0        0.0           0.0  \n",
              "1        0.0           0.0  \n",
              "2        0.0           0.0  \n",
              "3        0.0           0.0  \n",
              "4        0.0           0.0  "
            ],
            "text/html": [
              "\n",
              "  <div id=\"df-adbde3a7-3df1-4fee-be10-d1703f9f10eb\" class=\"colab-df-container\">\n",
              "    <div>\n",
              "<style scoped>\n",
              "    .dataframe tbody tr th:only-of-type {\n",
              "        vertical-align: middle;\n",
              "    }\n",
              "\n",
              "    .dataframe tbody tr th {\n",
              "        vertical-align: top;\n",
              "    }\n",
              "\n",
              "    .dataframe thead th {\n",
              "        text-align: right;\n",
              "    }\n",
              "</style>\n",
              "<table border=\"1\" class=\"dataframe\">\n",
              "  <thead>\n",
              "    <tr style=\"text-align: right;\">\n",
              "      <th></th>\n",
              "      <th>Date</th>\n",
              "      <th>Open</th>\n",
              "      <th>High</th>\n",
              "      <th>Low</th>\n",
              "      <th>Close</th>\n",
              "      <th>Volume</th>\n",
              "      <th>Dividends</th>\n",
              "      <th>Stock Splits</th>\n",
              "    </tr>\n",
              "  </thead>\n",
              "  <tbody>\n",
              "    <tr>\n",
              "      <th>0</th>\n",
              "      <td>1972-08-25 00:00:00-04:00</td>\n",
              "      <td>0.011463</td>\n",
              "      <td>0.011683</td>\n",
              "      <td>0.011463</td>\n",
              "      <td>0.011639</td>\n",
              "      <td>7526400</td>\n",
              "      <td>0.0</td>\n",
              "      <td>0.0</td>\n",
              "    </tr>\n",
              "    <tr>\n",
              "      <th>1</th>\n",
              "      <td>1972-08-28 00:00:00-04:00</td>\n",
              "      <td>0.011639</td>\n",
              "      <td>0.011727</td>\n",
              "      <td>0.011595</td>\n",
              "      <td>0.011595</td>\n",
              "      <td>2918400</td>\n",
              "      <td>0.0</td>\n",
              "      <td>0.0</td>\n",
              "    </tr>\n",
              "    <tr>\n",
              "      <th>2</th>\n",
              "      <td>1972-08-29 00:00:00-04:00</td>\n",
              "      <td>0.011551</td>\n",
              "      <td>0.011551</td>\n",
              "      <td>0.011463</td>\n",
              "      <td>0.011463</td>\n",
              "      <td>5836800</td>\n",
              "      <td>0.0</td>\n",
              "      <td>0.0</td>\n",
              "    </tr>\n",
              "    <tr>\n",
              "      <th>3</th>\n",
              "      <td>1972-08-30 00:00:00-04:00</td>\n",
              "      <td>0.011463</td>\n",
              "      <td>0.011463</td>\n",
              "      <td>0.011374</td>\n",
              "      <td>0.011463</td>\n",
              "      <td>1228800</td>\n",
              "      <td>0.0</td>\n",
              "      <td>0.0</td>\n",
              "    </tr>\n",
              "    <tr>\n",
              "      <th>4</th>\n",
              "      <td>1972-08-31 00:00:00-04:00</td>\n",
              "      <td>0.011374</td>\n",
              "      <td>0.011374</td>\n",
              "      <td>0.011286</td>\n",
              "      <td>0.011286</td>\n",
              "      <td>2611200</td>\n",
              "      <td>0.0</td>\n",
              "      <td>0.0</td>\n",
              "    </tr>\n",
              "  </tbody>\n",
              "</table>\n",
              "</div>\n",
              "    <div class=\"colab-df-buttons\">\n",
              "\n",
              "  <div class=\"colab-df-container\">\n",
              "    <button class=\"colab-df-convert\" onclick=\"convertToInteractive('df-adbde3a7-3df1-4fee-be10-d1703f9f10eb')\"\n",
              "            title=\"Convert this dataframe to an interactive table.\"\n",
              "            style=\"display:none;\">\n",
              "\n",
              "  <svg xmlns=\"http://www.w3.org/2000/svg\" height=\"24px\" viewBox=\"0 -960 960 960\">\n",
              "    <path d=\"M120-120v-720h720v720H120Zm60-500h600v-160H180v160Zm220 220h160v-160H400v160Zm0 220h160v-160H400v160ZM180-400h160v-160H180v160Zm440 0h160v-160H620v160ZM180-180h160v-160H180v160Zm440 0h160v-160H620v160Z\"/>\n",
              "  </svg>\n",
              "    </button>\n",
              "\n",
              "  <style>\n",
              "    .colab-df-container {\n",
              "      display:flex;\n",
              "      gap: 12px;\n",
              "    }\n",
              "\n",
              "    .colab-df-convert {\n",
              "      background-color: #E8F0FE;\n",
              "      border: none;\n",
              "      border-radius: 50%;\n",
              "      cursor: pointer;\n",
              "      display: none;\n",
              "      fill: #1967D2;\n",
              "      height: 32px;\n",
              "      padding: 0 0 0 0;\n",
              "      width: 32px;\n",
              "    }\n",
              "\n",
              "    .colab-df-convert:hover {\n",
              "      background-color: #E2EBFA;\n",
              "      box-shadow: 0px 1px 2px rgba(60, 64, 67, 0.3), 0px 1px 3px 1px rgba(60, 64, 67, 0.15);\n",
              "      fill: #174EA6;\n",
              "    }\n",
              "\n",
              "    .colab-df-buttons div {\n",
              "      margin-bottom: 4px;\n",
              "    }\n",
              "\n",
              "    [theme=dark] .colab-df-convert {\n",
              "      background-color: #3B4455;\n",
              "      fill: #D2E3FC;\n",
              "    }\n",
              "\n",
              "    [theme=dark] .colab-df-convert:hover {\n",
              "      background-color: #434B5C;\n",
              "      box-shadow: 0px 1px 3px 1px rgba(0, 0, 0, 0.15);\n",
              "      filter: drop-shadow(0px 1px 2px rgba(0, 0, 0, 0.3));\n",
              "      fill: #FFFFFF;\n",
              "    }\n",
              "  </style>\n",
              "\n",
              "    <script>\n",
              "      const buttonEl =\n",
              "        document.querySelector('#df-adbde3a7-3df1-4fee-be10-d1703f9f10eb button.colab-df-convert');\n",
              "      buttonEl.style.display =\n",
              "        google.colab.kernel.accessAllowed ? 'block' : 'none';\n",
              "\n",
              "      async function convertToInteractive(key) {\n",
              "        const element = document.querySelector('#df-adbde3a7-3df1-4fee-be10-d1703f9f10eb');\n",
              "        const dataTable =\n",
              "          await google.colab.kernel.invokeFunction('convertToInteractive',\n",
              "                                                    [key], {});\n",
              "        if (!dataTable) return;\n",
              "\n",
              "        const docLinkHtml = 'Like what you see? Visit the ' +\n",
              "          '<a target=\"_blank\" href=https://colab.research.google.com/notebooks/data_table.ipynb>data table notebook</a>'\n",
              "          + ' to learn more about interactive tables.';\n",
              "        element.innerHTML = '';\n",
              "        dataTable['output_type'] = 'display_data';\n",
              "        await google.colab.output.renderOutput(dataTable, element);\n",
              "        const docLink = document.createElement('div');\n",
              "        docLink.innerHTML = docLinkHtml;\n",
              "        element.appendChild(docLink);\n",
              "      }\n",
              "    </script>\n",
              "  </div>\n",
              "\n",
              "\n",
              "<div id=\"df-2e964f4b-e0d9-4f03-ad26-b3164a2cfac6\">\n",
              "  <button class=\"colab-df-quickchart\" onclick=\"quickchart('df-2e964f4b-e0d9-4f03-ad26-b3164a2cfac6')\"\n",
              "            title=\"Suggest charts\"\n",
              "            style=\"display:none;\">\n",
              "\n",
              "<svg xmlns=\"http://www.w3.org/2000/svg\" height=\"24px\"viewBox=\"0 0 24 24\"\n",
              "     width=\"24px\">\n",
              "    <g>\n",
              "        <path d=\"M19 3H5c-1.1 0-2 .9-2 2v14c0 1.1.9 2 2 2h14c1.1 0 2-.9 2-2V5c0-1.1-.9-2-2-2zM9 17H7v-7h2v7zm4 0h-2V7h2v10zm4 0h-2v-4h2v4z\"/>\n",
              "    </g>\n",
              "</svg>\n",
              "  </button>\n",
              "\n",
              "<style>\n",
              "  .colab-df-quickchart {\n",
              "      --bg-color: #E8F0FE;\n",
              "      --fill-color: #1967D2;\n",
              "      --hover-bg-color: #E2EBFA;\n",
              "      --hover-fill-color: #174EA6;\n",
              "      --disabled-fill-color: #AAA;\n",
              "      --disabled-bg-color: #DDD;\n",
              "  }\n",
              "\n",
              "  [theme=dark] .colab-df-quickchart {\n",
              "      --bg-color: #3B4455;\n",
              "      --fill-color: #D2E3FC;\n",
              "      --hover-bg-color: #434B5C;\n",
              "      --hover-fill-color: #FFFFFF;\n",
              "      --disabled-bg-color: #3B4455;\n",
              "      --disabled-fill-color: #666;\n",
              "  }\n",
              "\n",
              "  .colab-df-quickchart {\n",
              "    background-color: var(--bg-color);\n",
              "    border: none;\n",
              "    border-radius: 50%;\n",
              "    cursor: pointer;\n",
              "    display: none;\n",
              "    fill: var(--fill-color);\n",
              "    height: 32px;\n",
              "    padding: 0;\n",
              "    width: 32px;\n",
              "  }\n",
              "\n",
              "  .colab-df-quickchart:hover {\n",
              "    background-color: var(--hover-bg-color);\n",
              "    box-shadow: 0 1px 2px rgba(60, 64, 67, 0.3), 0 1px 3px 1px rgba(60, 64, 67, 0.15);\n",
              "    fill: var(--button-hover-fill-color);\n",
              "  }\n",
              "\n",
              "  .colab-df-quickchart-complete:disabled,\n",
              "  .colab-df-quickchart-complete:disabled:hover {\n",
              "    background-color: var(--disabled-bg-color);\n",
              "    fill: var(--disabled-fill-color);\n",
              "    box-shadow: none;\n",
              "  }\n",
              "\n",
              "  .colab-df-spinner {\n",
              "    border: 2px solid var(--fill-color);\n",
              "    border-color: transparent;\n",
              "    border-bottom-color: var(--fill-color);\n",
              "    animation:\n",
              "      spin 1s steps(1) infinite;\n",
              "  }\n",
              "\n",
              "  @keyframes spin {\n",
              "    0% {\n",
              "      border-color: transparent;\n",
              "      border-bottom-color: var(--fill-color);\n",
              "      border-left-color: var(--fill-color);\n",
              "    }\n",
              "    20% {\n",
              "      border-color: transparent;\n",
              "      border-left-color: var(--fill-color);\n",
              "      border-top-color: var(--fill-color);\n",
              "    }\n",
              "    30% {\n",
              "      border-color: transparent;\n",
              "      border-left-color: var(--fill-color);\n",
              "      border-top-color: var(--fill-color);\n",
              "      border-right-color: var(--fill-color);\n",
              "    }\n",
              "    40% {\n",
              "      border-color: transparent;\n",
              "      border-right-color: var(--fill-color);\n",
              "      border-top-color: var(--fill-color);\n",
              "    }\n",
              "    60% {\n",
              "      border-color: transparent;\n",
              "      border-right-color: var(--fill-color);\n",
              "    }\n",
              "    80% {\n",
              "      border-color: transparent;\n",
              "      border-right-color: var(--fill-color);\n",
              "      border-bottom-color: var(--fill-color);\n",
              "    }\n",
              "    90% {\n",
              "      border-color: transparent;\n",
              "      border-bottom-color: var(--fill-color);\n",
              "    }\n",
              "  }\n",
              "</style>\n",
              "\n",
              "  <script>\n",
              "    async function quickchart(key) {\n",
              "      const quickchartButtonEl =\n",
              "        document.querySelector('#' + key + ' button');\n",
              "      quickchartButtonEl.disabled = true;  // To prevent multiple clicks.\n",
              "      quickchartButtonEl.classList.add('colab-df-spinner');\n",
              "      try {\n",
              "        const charts = await google.colab.kernel.invokeFunction(\n",
              "            'suggestCharts', [key], {});\n",
              "      } catch (error) {\n",
              "        console.error('Error during call to suggestCharts:', error);\n",
              "      }\n",
              "      quickchartButtonEl.classList.remove('colab-df-spinner');\n",
              "      quickchartButtonEl.classList.add('colab-df-quickchart-complete');\n",
              "    }\n",
              "    (() => {\n",
              "      let quickchartButtonEl =\n",
              "        document.querySelector('#df-2e964f4b-e0d9-4f03-ad26-b3164a2cfac6 button');\n",
              "      quickchartButtonEl.style.display =\n",
              "        google.colab.kernel.accessAllowed ? 'block' : 'none';\n",
              "    })();\n",
              "  </script>\n",
              "</div>\n",
              "\n",
              "    </div>\n",
              "  </div>\n"
            ],
            "application/vnd.google.colaboratory.intrinsic+json": {
              "type": "dataframe",
              "variable_name": "df",
              "summary": "{\n  \"name\": \"df\",\n  \"rows\": 13233,\n  \"fields\": [\n    {\n      \"column\": \"Date\",\n      \"properties\": {\n        \"dtype\": \"object\",\n        \"num_unique_values\": 13233,\n        \"samples\": [\n          \"2020-10-28 00:00:00-04:00\",\n          \"2005-10-03 00:00:00-04:00\",\n          \"2008-06-24 00:00:00-04:00\"\n        ],\n        \"semantic_type\": \"\",\n        \"description\": \"\"\n      }\n    },\n    {\n      \"column\": \"Open\",\n      \"properties\": {\n        \"dtype\": \"number\",\n        \"std\": 15.857590318042693,\n        \"min\": 0.0028387145865371,\n        \"max\": 105.3000030517578,\n        \"num_unique_values\": 12517,\n        \"samples\": [\n          87.25667096189427,\n          23.422387450601857,\n          21.58095035516525\n        ],\n        \"semantic_type\": \"\",\n        \"description\": \"\"\n      }\n    },\n    {\n      \"column\": \"High\",\n      \"properties\": {\n        \"dtype\": \"number\",\n        \"std\": 15.97978272950688,\n        \"min\": 0.0028387152124196,\n        \"max\": 105.3000030517578,\n        \"num_unique_values\": 12148,\n        \"samples\": [\n          18.57083367597232,\n          19.42812082722824,\n          0.0715245455503463\n        ],\n        \"semantic_type\": \"\",\n        \"description\": \"\"\n      }\n    },\n    {\n      \"column\": \"Low\",\n      \"properties\": {\n        \"dtype\": \"number\",\n        \"std\": 15.739790441738547,\n        \"min\": 0.0026168724167128,\n        \"max\": 103.5999984741211,\n        \"num_unique_values\": 12185,\n        \"samples\": [\n          0.1465834329393712,\n          0.6859089970283143,\n          12.247047622497194\n        ],\n        \"semantic_type\": \"\",\n        \"description\": \"\"\n      }\n    },\n    {\n      \"column\": \"Close\",\n      \"properties\": {\n        \"dtype\": \"number\",\n        \"std\": 15.865461491356509,\n        \"min\": 0.0028387152124196,\n        \"max\": 105.0500030517578,\n        \"num_unique_values\": 9624,\n        \"samples\": [\n          0.1205581948161125,\n          0.965865671634674,\n          57.91581344604492\n        ],\n        \"semantic_type\": \"\",\n        \"description\": \"\"\n      }\n    },\n    {\n      \"column\": \"Volume\",\n      \"properties\": {\n        \"dtype\": \"number\",\n        \"std\": 18390036,\n        \"min\": 0,\n        \"max\": 395500800,\n        \"num_unique_values\": 10302,\n        \"samples\": [\n          14874000,\n          14520200,\n          43785000\n        ],\n        \"semantic_type\": \"\",\n        \"description\": \"\"\n      }\n    },\n    {\n      \"column\": \"Dividends\",\n      \"properties\": {\n        \"dtype\": \"number\",\n        \"std\": 0.011605537870061808,\n        \"min\": 0.0,\n        \"max\": 0.208,\n        \"num_unique_values\": 54,\n        \"samples\": [\n          0.002917,\n          0.18,\n          0.176667\n        ],\n        \"semantic_type\": \"\",\n        \"description\": \"\"\n      }\n    },\n    {\n      \"column\": \"Stock Splits\",\n      \"properties\": {\n        \"dtype\": \"number\",\n        \"std\": 0.058295178689904206,\n        \"min\": 0.0,\n        \"max\": 3.0,\n        \"num_unique_values\": 3,\n        \"samples\": [\n          0.0,\n          2.0,\n          3.0\n        ],\n        \"semantic_type\": \"\",\n        \"description\": \"\"\n      }\n    }\n  ]\n}"
            }
          },
          "metadata": {},
          "execution_count": 8
        }
      ]
    },
    {
      "cell_type": "code",
      "source": [
        "df['Date'] = pd.to_datetime(df['Date'], utc = True)"
      ],
      "metadata": {
        "id": "65OAtvChiz7g"
      },
      "execution_count": 12,
      "outputs": []
    },
    {
      "cell_type": "code",
      "source": [
        "df.info()"
      ],
      "metadata": {
        "id": "iaG217Lji77-",
        "outputId": "1739e669-f22c-4280-b55a-6596e36321bd",
        "colab": {
          "base_uri": "https://localhost:8080/"
        }
      },
      "execution_count": 15,
      "outputs": [
        {
          "output_type": "stream",
          "name": "stdout",
          "text": [
            "<class 'pandas.core.frame.DataFrame'>\n",
            "RangeIndex: 13233 entries, 0 to 13232\n",
            "Data columns (total 8 columns):\n",
            " #   Column        Non-Null Count  Dtype              \n",
            "---  ------        --------------  -----              \n",
            " 0   Date          13233 non-null  datetime64[ns, UTC]\n",
            " 1   Open          13233 non-null  float64            \n",
            " 2   High          13233 non-null  float64            \n",
            " 3   Low           13233 non-null  float64            \n",
            " 4   Close         13233 non-null  float64            \n",
            " 5   Volume        13233 non-null  int64              \n",
            " 6   Dividends     13233 non-null  float64            \n",
            " 7   Stock Splits  13233 non-null  float64            \n",
            "dtypes: datetime64[ns, UTC](1), float64(6), int64(1)\n",
            "memory usage: 827.2 KB\n"
          ]
        }
      ]
    },
    {
      "cell_type": "code",
      "source": [
        "df.isna().sum()"
      ],
      "metadata": {
        "id": "Z4V0o42xi9r4",
        "outputId": "4bd3d1a0-a26d-4002-d559-ed74a645f6a1",
        "colab": {
          "base_uri": "https://localhost:8080/",
          "height": 335
        }
      },
      "execution_count": 16,
      "outputs": [
        {
          "output_type": "execute_result",
          "data": {
            "text/plain": [
              "Date            0\n",
              "Open            0\n",
              "High            0\n",
              "Low             0\n",
              "Close           0\n",
              "Volume          0\n",
              "Dividends       0\n",
              "Stock Splits    0\n",
              "dtype: int64"
            ],
            "text/html": [
              "<div>\n",
              "<style scoped>\n",
              "    .dataframe tbody tr th:only-of-type {\n",
              "        vertical-align: middle;\n",
              "    }\n",
              "\n",
              "    .dataframe tbody tr th {\n",
              "        vertical-align: top;\n",
              "    }\n",
              "\n",
              "    .dataframe thead th {\n",
              "        text-align: right;\n",
              "    }\n",
              "</style>\n",
              "<table border=\"1\" class=\"dataframe\">\n",
              "  <thead>\n",
              "    <tr style=\"text-align: right;\">\n",
              "      <th></th>\n",
              "      <th>0</th>\n",
              "    </tr>\n",
              "  </thead>\n",
              "  <tbody>\n",
              "    <tr>\n",
              "      <th>Date</th>\n",
              "      <td>0</td>\n",
              "    </tr>\n",
              "    <tr>\n",
              "      <th>Open</th>\n",
              "      <td>0</td>\n",
              "    </tr>\n",
              "    <tr>\n",
              "      <th>High</th>\n",
              "      <td>0</td>\n",
              "    </tr>\n",
              "    <tr>\n",
              "      <th>Low</th>\n",
              "      <td>0</td>\n",
              "    </tr>\n",
              "    <tr>\n",
              "      <th>Close</th>\n",
              "      <td>0</td>\n",
              "    </tr>\n",
              "    <tr>\n",
              "      <th>Volume</th>\n",
              "      <td>0</td>\n",
              "    </tr>\n",
              "    <tr>\n",
              "      <th>Dividends</th>\n",
              "      <td>0</td>\n",
              "    </tr>\n",
              "    <tr>\n",
              "      <th>Stock Splits</th>\n",
              "      <td>0</td>\n",
              "    </tr>\n",
              "  </tbody>\n",
              "</table>\n",
              "</div><br><label><b>dtype:</b> int64</label>"
            ]
          },
          "metadata": {},
          "execution_count": 16
        }
      ]
    },
    {
      "cell_type": "code",
      "source": [
        "sns.lineplot(x = 'Date', y = 'Close', data = df)"
      ],
      "metadata": {
        "id": "EnkNf_VmjsPE",
        "outputId": "ec02afa0-514b-41b2-95cc-eb9260622d6d",
        "colab": {
          "base_uri": "https://localhost:8080/",
          "height": 466
        }
      },
      "execution_count": 18,
      "outputs": [
        {
          "output_type": "execute_result",
          "data": {
            "text/plain": [
              "<Axes: xlabel='Date', ylabel='Close'>"
            ]
          },
          "metadata": {},
          "execution_count": 18
        },
        {
          "output_type": "display_data",
          "data": {
            "text/plain": [
              "<Figure size 640x480 with 1 Axes>"
            ],
            "image/png": "[encoded data removed]"
          },
          "metadata": {}
        }
      ]
    },
    {
      "cell_type": "code",
      "source": [
        "df2 = df.set_index('Date')"
      ],
      "metadata": {
        "id": "_jKlgBWyj9PG"
      },
      "execution_count": 33,
      "outputs": []
    },
    {
      "cell_type": "code",
      "source": [
        "df2.head()"
      ],
      "metadata": {
        "id": "mbEW8eUKk9Pu",
        "outputId": "7d8b82d0-0475-4209-f0ef-83020b3c41be",
        "colab": {
          "base_uri": "https://localhost:8080/",
          "height": 361
        }
      },
      "execution_count": 35,
      "outputs": [
        {
          "output_type": "execute_result",
          "data": {
            "text/plain": [
              "                               Open      High       Low     Close   Volume  \\\n",
              "Date                                                                         \n",
              "1972-08-25 04:00:00+00:00  0.011463  0.011683  0.011463  0.011639  7526400   \n",
              "1972-08-28 04:00:00+00:00  0.011639  0.011727  0.011595  0.011595  2918400   \n",
              "1972-08-29 04:00:00+00:00  0.011551  0.011551  0.011463  0.011463  5836800   \n",
              "1972-08-30 04:00:00+00:00  0.011463  0.011463  0.011374  0.011463  1228800   \n",
              "1972-08-31 04:00:00+00:00  0.011374  0.011374  0.011286  0.011286  2611200   \n",
              "\n",
              "                           Dividends  Stock Splits  \n",
              "Date                                                \n",
              "1972-08-25 04:00:00+00:00        0.0           0.0  \n",
              "1972-08-28 04:00:00+00:00        0.0           0.0  \n",
              "1972-08-29 04:00:00+00:00        0.0           0.0  \n",
              "1972-08-30 04:00:00+00:00        0.0           0.0  \n",
              "1972-08-31 04:00:00+00:00        0.0           0.0  "
            ],
            "text/html": [
              "\n",
              "  <div id=\"df-7178d0b4-942c-4fc2-ac01-102c851d3178\" class=\"colab-df-container\">\n",
              "    <div>\n",
              "<style scoped>\n",
              "    .dataframe tbody tr th:only-of-type {\n",
              "        vertical-align: middle;\n",
              "    }\n",
              "\n",
              "    .dataframe tbody tr th {\n",
              "        vertical-align: top;\n",
              "    }\n",
              "\n",
              "    .dataframe thead th {\n",
              "        text-align: right;\n",
              "    }\n",
              "</style>\n",
              "<table border=\"1\" class=\"dataframe\">\n",
              "  <thead>\n",
              "    <tr style=\"text-align: right;\">\n",
              "      <th></th>\n",
              "      <th>Open</th>\n",
              "      <th>High</th>\n",
              "      <th>Low</th>\n",
              "      <th>Close</th>\n",
              "      <th>Volume</th>\n",
              "      <th>Dividends</th>\n",
              "      <th>Stock Splits</th>\n",
              "    </tr>\n",
              "    <tr>\n",
              "      <th>Date</th>\n",
              "      <th></th>\n",
              "      <th></th>\n",
              "      <th></th>\n",
              "      <th></th>\n",
              "      <th></th>\n",
              "      <th></th>\n",
              "      <th></th>\n",
              "    </tr>\n",
              "  </thead>\n",
              "  <tbody>\n",
              "    <tr>\n",
              "      <th>1972-08-25 04:00:00+00:00</th>\n",
              "      <td>0.011463</td>\n",
              "      <td>0.011683</td>\n",
              "      <td>0.011463</td>\n",
              "      <td>0.011639</td>\n",
              "      <td>7526400</td>\n",
              "      <td>0.0</td>\n",
              "      <td>0.0</td>\n",
              "    </tr>\n",
              "    <tr>\n",
              "      <th>1972-08-28 04:00:00+00:00</th>\n",
              "      <td>0.011639</td>\n",
              "      <td>0.011727</td>\n",
              "      <td>0.011595</td>\n",
              "      <td>0.011595</td>\n",
              "      <td>2918400</td>\n",
              "      <td>0.0</td>\n",
              "      <td>0.0</td>\n",
              "    </tr>\n",
              "    <tr>\n",
              "      <th>1972-08-29 04:00:00+00:00</th>\n",
              "      <td>0.011551</td>\n",
              "      <td>0.011551</td>\n",
              "      <td>0.011463</td>\n",
              "      <td>0.011463</td>\n",
              "      <td>5836800</td>\n",
              "      <td>0.0</td>\n",
              "      <td>0.0</td>\n",
              "    </tr>\n",
              "    <tr>\n",
              "      <th>1972-08-30 04:00:00+00:00</th>\n",
              "      <td>0.011463</td>\n",
              "      <td>0.011463</td>\n",
              "      <td>0.011374</td>\n",
              "      <td>0.011463</td>\n",
              "      <td>1228800</td>\n",
              "      <td>0.0</td>\n",
              "      <td>0.0</td>\n",
              "    </tr>\n",
              "    <tr>\n",
              "      <th>1972-08-31 04:00:00+00:00</th>\n",
              "      <td>0.011374</td>\n",
              "      <td>0.011374</td>\n",
              "      <td>0.011286</td>\n",
              "      <td>0.011286</td>\n",
              "      <td>2611200</td>\n",
              "      <td>0.0</td>\n",
              "      <td>0.0</td>\n",
              "    </tr>\n",
              "  </tbody>\n",
              "</table>\n",
              "</div>\n",
              "    <div class=\"colab-df-buttons\">\n",
              "\n",
              "  <div class=\"colab-df-container\">\n",
              "    <button class=\"colab-df-convert\" onclick=\"convertToInteractive('df-7178d0b4-942c-4fc2-ac01-102c851d3178')\"\n",
              "            title=\"Convert this dataframe to an interactive table.\"\n",
              "            style=\"display:none;\">\n",
              "\n",
              "  <svg xmlns=\"http://www.w3.org/2000/svg\" height=\"24px\" viewBox=\"0 -960 960 960\">\n",
              "    <path d=\"M120-120v-720h720v720H120Zm60-500h600v-160H180v160Zm220 220h160v-160H400v160Zm0 220h160v-160H400v160ZM180-400h160v-160H180v160Zm440 0h160v-160H620v160ZM180-180h160v-160H180v160Zm440 0h160v-160H620v160Z\"/>\n",
              "  </svg>\n",
              "    </button>\n",
              "\n",
              "  <style>\n",
              "    .colab-df-container {\n",
              "      display:flex;\n",
              "      gap: 12px;\n",
              "    }\n",
              "\n",
              "    .colab-df-convert {\n",
              "      background-color: #E8F0FE;\n",
              "      border: none;\n",
              "      border-radius: 50%;\n",
              "      cursor: pointer;\n",
              "      display: none;\n",
              "      fill: #1967D2;\n",
              "      height: 32px;\n",
              "      padding: 0 0 0 0;\n",
              "      width: 32px;\n",
              "    }\n",
              "\n",
              "    .colab-df-convert:hover {\n",
              "      background-color: #E2EBFA;\n",
              "      box-shadow: 0px 1px 2px rgba(60, 64, 67, 0.3), 0px 1px 3px 1px rgba(60, 64, 67, 0.15);\n",
              "      fill: #174EA6;\n",
              "    }\n",
              "\n",
              "    .colab-df-buttons div {\n",
              "      margin-bottom: 4px;\n",
              "    }\n",
              "\n",
              "    [theme=dark] .colab-df-convert {\n",
              "      background-color: #3B4455;\n",
              "      fill: #D2E3FC;\n",
              "    }\n",
              "\n",
              "    [theme=dark] .colab-df-convert:hover {\n",
              "      background-color: #434B5C;\n",
              "      box-shadow: 0px 1px 3px 1px rgba(0, 0, 0, 0.15);\n",
              "      filter: drop-shadow(0px 1px 2px rgba(0, 0, 0, 0.3));\n",
              "      fill: #FFFFFF;\n",
              "    }\n",
              "  </style>\n",
              "\n",
              "    <script>\n",
              "      const buttonEl =\n",
              "        document.querySelector('#df-7178d0b4-942c-4fc2-ac01-102c851d3178 button.colab-df-convert');\n",
              "      buttonEl.style.display =\n",
              "        google.colab.kernel.accessAllowed ? 'block' : 'none';\n",
              "\n",
              "      async function convertToInteractive(key) {\n",
              "        const element = document.querySelector('#df-7178d0b4-942c-4fc2-ac01-102c851d3178');\n",
              "        const dataTable =\n",
              "          await google.colab.kernel.invokeFunction('convertToInteractive',\n",
              "                                                    [key], {});\n",
              "        if (!dataTable) return;\n",
              "\n",
              "        const docLinkHtml = 'Like what you see? Visit the ' +\n",
              "          '<a target=\"_blank\" href=https://colab.research.google.com/notebooks/data_table.ipynb>data table notebook</a>'\n",
              "          + ' to learn more about interactive tables.';\n",
              "        element.innerHTML = '';\n",
              "        dataTable['output_type'] = 'display_data';\n",
              "        await google.colab.output.renderOutput(dataTable, element);\n",
              "        const docLink = document.createElement('div');\n",
              "        docLink.innerHTML = docLinkHtml;\n",
              "        element.appendChild(docLink);\n",
              "      }\n",
              "    </script>\n",
              "  </div>\n",
              "\n",
              "\n",
              "<div id=\"df-c0f37b84-68ec-4ed2-b8b3-cbd60ab53131\">\n",
              "  <button class=\"colab-df-quickchart\" onclick=\"quickchart('df-c0f37b84-68ec-4ed2-b8b3-cbd60ab53131')\"\n",
              "            title=\"Suggest charts\"\n",
              "            style=\"display:none;\">\n",
              "\n",
              "<svg xmlns=\"http://www.w3.org/2000/svg\" height=\"24px\"viewBox=\"0 0 24 24\"\n",
              "     width=\"24px\">\n",
              "    <g>\n",
              "        <path d=\"M19 3H5c-1.1 0-2 .9-2 2v14c0 1.1.9 2 2 2h14c1.1 0 2-.9 2-2V5c0-1.1-.9-2-2-2zM9 17H7v-7h2v7zm4 0h-2V7h2v10zm4 0h-2v-4h2v4z\"/>\n",
              "    </g>\n",
              "</svg>\n",
              "  </button>\n",
              "\n",
              "<style>\n",
              "  .colab-df-quickchart {\n",
              "      --bg-color: #E8F0FE;\n",
              "      --fill-color: #1967D2;\n",
              "      --hover-bg-color: #E2EBFA;\n",
              "      --hover-fill-color: #174EA6;\n",
              "      --disabled-fill-color: #AAA;\n",
              "      --disabled-bg-color: #DDD;\n",
              "  }\n",
              "\n",
              "  [theme=dark] .colab-df-quickchart {\n",
              "      --bg-color: #3B4455;\n",
              "      --fill-color: #D2E3FC;\n",
              "      --hover-bg-color: #434B5C;\n",
              "      --hover-fill-color: #FFFFFF;\n",
              "      --disabled-bg-color: #3B4455;\n",
              "      --disabled-fill-color: #666;\n",
              "  }\n",
              "\n",
              "  .colab-df-quickchart {\n",
              "    background-color: var(--bg-color);\n",
              "    border: none;\n",
              "    border-radius: 50%;\n",
              "    cursor: pointer;\n",
              "    display: none;\n",
              "    fill: var(--fill-color);\n",
              "    height: 32px;\n",
              "    padding: 0;\n",
              "    width: 32px;\n",
              "  }\n",
              "\n",
              "  .colab-df-quickchart:hover {\n",
              "    background-color: var(--hover-bg-color);\n",
              "    box-shadow: 0 1px 2px rgba(60, 64, 67, 0.3), 0 1px 3px 1px rgba(60, 64, 67, 0.15);\n",
              "    fill: var(--button-hover-fill-color);\n",
              "  }\n",
              "\n",
              "  .colab-df-quickchart-complete:disabled,\n",
              "  .colab-df-quickchart-complete:disabled:hover {\n",
              "    background-color: var(--disabled-bg-color);\n",
              "    fill: var(--disabled-fill-color);\n",
              "    box-shadow: none;\n",
              "  }\n",
              "\n",
              "  .colab-df-spinner {\n",
              "    border: 2px solid var(--fill-color);\n",
              "    border-color: transparent;\n",
              "    border-bottom-color: var(--fill-color);\n",
              "    animation:\n",
              "      spin 1s steps(1) infinite;\n",
              "  }\n",
              "\n",
              "  @keyframes spin {\n",
              "    0% {\n",
              "      border-color: transparent;\n",
              "      border-bottom-color: var(--fill-color);\n",
              "      border-left-color: var(--fill-color);\n",
              "    }\n",
              "    20% {\n",
              "      border-color: transparent;\n",
              "      border-left-color: var(--fill-color);\n",
              "      border-top-color: var(--fill-color);\n",
              "    }\n",
              "    30% {\n",
              "      border-color: transparent;\n",
              "      border-left-color: var(--fill-color);\n",
              "      border-top-color: var(--fill-color);\n",
              "      border-right-color: var(--fill-color);\n",
              "    }\n",
              "    40% {\n",
              "      border-color: transparent;\n",
              "      border-right-color: var(--fill-color);\n",
              "      border-top-color: var(--fill-color);\n",
              "    }\n",
              "    60% {\n",
              "      border-color: transparent;\n",
              "      border-right-color: var(--fill-color);\n",
              "    }\n",
              "    80% {\n",
              "      border-color: transparent;\n",
              "      border-right-color: var(--fill-color);\n",
              "      border-bottom-color: var(--fill-color);\n",
              "    }\n",
              "    90% {\n",
              "      border-color: transparent;\n",
              "      border-bottom-color: var(--fill-color);\n",
              "    }\n",
              "  }\n",
              "</style>\n",
              "\n",
              "  <script>\n",
              "    async function quickchart(key) {\n",
              "      const quickchartButtonEl =\n",
              "        document.querySelector('#' + key + ' button');\n",
              "      quickchartButtonEl.disabled = true;  // To prevent multiple clicks.\n",
              "      quickchartButtonEl.classList.add('colab-df-spinner');\n",
              "      try {\n",
              "        const charts = await google.colab.kernel.invokeFunction(\n",
              "            'suggestCharts', [key], {});\n",
              "      } catch (error) {\n",
              "        console.error('Error during call to suggestCharts:', error);\n",
              "      }\n",
              "      quickchartButtonEl.classList.remove('colab-df-spinner');\n",
              "      quickchartButtonEl.classList.add('colab-df-quickchart-complete');\n",
              "    }\n",
              "    (() => {\n",
              "      let quickchartButtonEl =\n",
              "        document.querySelector('#df-c0f37b84-68ec-4ed2-b8b3-cbd60ab53131 button');\n",
              "      quickchartButtonEl.style.display =\n",
              "        google.colab.kernel.accessAllowed ? 'block' : 'none';\n",
              "    })();\n",
              "  </script>\n",
              "</div>\n",
              "\n",
              "    </div>\n",
              "  </div>\n"
            ],
            "application/vnd.google.colaboratory.intrinsic+json": {
              "type": "dataframe",
              "variable_name": "df2",
              "summary": "{\n  \"name\": \"df2\",\n  \"rows\": 13233,\n  \"fields\": [\n    {\n      \"column\": \"Date\",\n      \"properties\": {\n        \"dtype\": \"date\",\n        \"min\": \"1972-08-25 04:00:00+00:00\",\n        \"max\": \"2025-02-21 05:00:00+00:00\",\n        \"num_unique_values\": 13233,\n        \"samples\": [\n          \"2020-10-28 04:00:00+00:00\",\n          \"2005-10-03 04:00:00+00:00\",\n          \"2008-06-24 04:00:00+00:00\"\n        ],\n        \"semantic_type\": \"\",\n        \"description\": \"\"\n      }\n    },\n    {\n      \"column\": \"Open\",\n      \"properties\": {\n        \"dtype\": \"number\",\n        \"std\": 15.857590318042693,\n        \"min\": 0.0028387145865371,\n        \"max\": 105.3000030517578,\n        \"num_unique_values\": 12517,\n        \"samples\": [\n          87.25667096189427,\n          23.422387450601857,\n          21.58095035516525\n        ],\n        \"semantic_type\": \"\",\n        \"description\": \"\"\n      }\n    },\n    {\n      \"column\": \"High\",\n      \"properties\": {\n        \"dtype\": \"number\",\n        \"std\": 15.97978272950688,\n        \"min\": 0.0028387152124196,\n        \"max\": 105.3000030517578,\n        \"num_unique_values\": 12148,\n        \"samples\": [\n          18.57083367597232,\n          19.42812082722824,\n          0.0715245455503463\n        ],\n        \"semantic_type\": \"\",\n        \"description\": \"\"\n      }\n    },\n    {\n      \"column\": \"Low\",\n      \"properties\": {\n        \"dtype\": \"number\",\n        \"std\": 15.739790441738547,\n        \"min\": 0.0026168724167128,\n        \"max\": 103.5999984741211,\n        \"num_unique_values\": 12185,\n        \"samples\": [\n          0.1465834329393712,\n          0.6859089970283143,\n          12.247047622497194\n        ],\n        \"semantic_type\": \"\",\n        \"description\": \"\"\n      }\n    },\n    {\n      \"column\": \"Close\",\n      \"properties\": {\n        \"dtype\": \"number\",\n        \"std\": 15.865461491356509,\n        \"min\": 0.0028387152124196,\n        \"max\": 105.0500030517578,\n        \"num_unique_values\": 9624,\n        \"samples\": [\n          0.1205581948161125,\n          0.965865671634674,\n          57.91581344604492\n        ],\n        \"semantic_type\": \"\",\n        \"description\": \"\"\n      }\n    },\n    {\n      \"column\": \"Volume\",\n      \"properties\": {\n        \"dtype\": \"number\",\n        \"std\": 18390036,\n        \"min\": 0,\n        \"max\": 395500800,\n        \"num_unique_values\": 10302,\n        \"samples\": [\n          14874000,\n          14520200,\n          43785000\n        ],\n        \"semantic_type\": \"\",\n        \"description\": \"\"\n      }\n    },\n    {\n      \"column\": \"Dividends\",\n      \"properties\": {\n        \"dtype\": \"number\",\n        \"std\": 0.011605537870061808,\n        \"min\": 0.0,\n        \"max\": 0.208,\n        \"num_unique_values\": 54,\n        \"samples\": [\n          0.002917,\n          0.18,\n          0.176667\n        ],\n        \"semantic_type\": \"\",\n        \"description\": \"\"\n      }\n    },\n    {\n      \"column\": \"Stock Splits\",\n      \"properties\": {\n        \"dtype\": \"number\",\n        \"std\": 0.058295178689904206,\n        \"min\": 0.0,\n        \"max\": 3.0,\n        \"num_unique_values\": 3,\n        \"samples\": [\n          0.0,\n          2.0,\n          3.0\n        ],\n        \"semantic_type\": \"\",\n        \"description\": \"\"\n      }\n    }\n  ]\n}"
            }
          },
          "metadata": {},
          "execution_count": 35
        }
      ]
    },
    {
      "cell_type": "code",
      "source": [
        "print(df2['Close'].max())\n",
        "print(df2['Close'].idxmax())"
      ],
      "metadata": {
        "id": "pmkIjIymlAQD",
        "outputId": "a8934272-78c1-47f7-83b2-ed43f95d4d97",
        "colab": {
          "base_uri": "https://localhost:8080/"
        }
      },
      "execution_count": 37,
      "outputs": [
        {
          "output_type": "stream",
          "name": "stdout",
          "text": [
            "105.0500030517578\n",
            "2025-02-13 05:00:00+00:00\n"
          ]
        }
      ]
    },
    {
      "cell_type": "code",
      "source": [
        "print(df2['Close'].min())\n",
        "print(df2['Close'].idxmin())"
      ],
      "metadata": {
        "id": "T2Ka-zNwnx0E",
        "outputId": "db19437a-7c03-4fae-c746-908070d1ae38",
        "colab": {
          "base_uri": "https://localhost:8080/"
        }
      },
      "execution_count": 38,
      "outputs": [
        {
          "output_type": "stream",
          "name": "stdout",
          "text": [
            "0.0028387152124196\n",
            "1974-12-10 05:00:00+00:00\n"
          ]
        }
      ]
    },
    {
      "cell_type": "markdown",
      "source": [
        "PieceWise Regression. To identify breakpoints in the Timeseries Data, Where trend changes."
      ],
      "metadata": {
        "id": "pHixCA_6sthy"
      }
    },
    {
      "cell_type": "code",
      "source": [
        "from piecewise_regression import Fit"
      ],
      "metadata": {
        "id": "bE41gLron98e"
      },
      "execution_count": 41,
      "outputs": []
    },
    {
      "cell_type": "code",
      "source": [
        "X = df2.index.to_julian_date().values\n",
        "Y = df2['Close'].values"
      ],
      "metadata": {
        "id": "dKvpsg4Vp6X5"
      },
      "execution_count": 42,
      "outputs": []
    },
    {
      "cell_type": "code",
      "source": [
        "pw_fit = Fit(X, Y, n_breakpoints = 10)\n",
        "pw_fit.summary()"
      ],
      "metadata": {
        "id": "R23kIeUyqZ13",
        "outputId": "3bc4ba45-c2da-45d5-9ea3-cd46e1986923",
        "colab": {
          "base_uri": "https://localhost:8080/",
          "height": 1000
        }
      },
      "execution_count": 46,
      "outputs": [
        {
          "output_type": "stream",
          "name": "stdout",
          "text": [
            "\n",
            "                    Breakpoint Regression Results                     \n",
            "====================================================================================================\n",
            "No. Observations                    13233\n",
            "No. Model Parameters                   22\n",
            "Degrees of Freedom                  13211\n",
            "Res. Sum of Squares           1.11988e+05\n",
            "Total Sum of Squares          3.33066e+06\n",
            "R Squared                        0.966377\n",
            "Adjusted R Squared               0.966321\n",
            "Converged:                           True\n",
            "====================================================================================================\n",
            "====================================================================================================\n",
            "                    Estimate      Std Err            t        P>|t|       [0.025       0.975]\n",
            "----------------------------------------------------------------------------------------------------\n",
            "const               -12.1859     2.22e+02    -0.054846         0.956       -447.7       423.32\n",
            "alpha1           4.99288e-06      9.1e-05     0.054896         0.956  -0.00017329   0.00018327\n",
            "beta1            5.50019e-05     0.000578     0.095155             -    -0.001078     0.001188\n",
            "beta2            0.000141029     0.000644      0.21911             -   -0.0011206    0.0014027\n",
            "beta3            0.000223296     0.000336      0.66397             -   -0.0004359    0.0008825\n",
            "beta4              0.0017929     0.000517       3.4693             -   0.00077992    0.0028059\n",
            "beta5            -0.00253837     0.000524      -4.8428             -   -0.0035658    -0.001511\n",
            "beta6             0.00554162      0.00165       3.3504             -    0.0022995    0.0087837\n",
            "beta7             0.00528298      0.00177       2.9763             -    0.0018037    0.0087622\n",
            "beta8             -0.0105473     0.000672      -15.705             -    -0.011864   -0.0092309\n",
            "beta9             0.00406609     8.56e-05        47.48             -    0.0038982     0.004234\n",
            "beta10             0.0144565     0.000121       119.03             -     0.014218     0.014695\n",
            "breakpoint1      2.44417e+06     5.23e+03            -             -   2.4339e+06   2.4544e+06\n",
            "breakpoint2      2.44493e+06      2.3e+03            -             -   2.4404e+06   2.4494e+06\n",
            "breakpoint3      2.44612e+06     1.17e+03            -             -   2.4438e+06   2.4484e+06\n",
            "breakpoint4      2.44793e+06     1.62e+02            -             -   2.4476e+06   2.4483e+06\n",
            "breakpoint5      2.44878e+06     1.17e+02            -             -   2.4486e+06    2.449e+06\n",
            "breakpoint6      2.45043e+06         72.3            -             -   2.4503e+06   2.4506e+06\n",
            "breakpoint7      2.45082e+06         85.2            -             -   2.4507e+06    2.451e+06\n",
            "breakpoint8      2.45151e+06         27.7            -             -   2.4515e+06   2.4516e+06\n",
            "breakpoint9      2.45489e+06         41.7            -             -   2.4548e+06    2.455e+06\n",
            "breakpoint10     2.45836e+06         12.9            -             -   2.4583e+06   2.4584e+06\n",
            "----------------------------------------------------------------------------------------------------\n",
            "These alphas(gradients of segments) are estimatedfrom betas(change in gradient)\n",
            "----------------------------------------------------------------------------------------------------\n",
            "alpha2           5.99948e-05     0.000571       0.1051         0.916   -0.0010589    0.0011789\n",
            "alpha3           0.000201024     0.000297      0.67594         0.499  -0.00038193   0.00078397\n",
            "alpha4            0.00042432     0.000157       2.7026       0.00689   0.00011656   0.00073208\n",
            "alpha5            0.00221722     0.000492       4.5032      6.75e-06    0.0012521    0.0031823\n",
            "alpha6          -0.000321152      0.00018      -1.7865         0.074  -0.00067351    3.121e-05\n",
            "alpha7            0.00522047      0.00164       3.1751        0.0015    0.0019976    0.0084433\n",
            "alpha8             0.0105034     0.000669       15.706      4.31e-55    0.0091926     0.011814\n",
            "alpha9          -4.38169e-05     6.17e-05     -0.70995         0.478  -0.00016479    7.716e-05\n",
            "alpha10           0.00402228     5.94e-05        67.75           0.0    0.0039059    0.0041386\n",
            "alpha11            0.0184788     0.000106       174.41           0.0     0.018271     0.018686\n",
            "====================================================================================================\n",
            "Davies test for existence of at least 1 breakpoint: p=0.0 (e.g. p<0.05 means reject null hypothesis of no breakpoints at 5% significance)\n",
            "\n",
            "\n"
          ]
        },
        {
          "output_type": "execute_result",
          "data": {
            "text/plain": [
              "'\\n                    Breakpoint Regression Results                     \\n====================================================================================================\\nNo. Observations                    13233\\nNo. Model Parameters                   22\\nDegrees of Freedom                  13211\\nRes. Sum of Squares           1.11988e+05\\nTotal Sum of Squares          3.33066e+06\\nR Squared                        0.966377\\nAdjusted R Squared               0.966321\\nConverged:                           True\\n====================================================================================================\\n====================================================================================================\\n                    Estimate      Std Err            t        P>|t|       [0.025       0.975]\\n----------------------------------------------------------------------------------------------------\\nconst               -12.1859     2.22e+02    -0.054846         0.956       -447.7       423.32\\nalpha1           4.99288e-06      9.1e-05     0.054896         0.956  -0.00017329   0.00018327\\nbeta1            5.50019e-05     0.000578     0.095155             -    -0.001078     0.001188\\nbeta2            0.000141029     0.000644      0.21911             -   -0.0011206    0.0014027\\nbeta3            0.000223296     0.000336      0.66397             -   -0.0004359    0.0008825\\nbeta4              0.0017929     0.000517       3.4693             -   0.00077992    0.0028059\\nbeta5            -0.00253837     0.000524      -4.8428             -   -0.0035658    -0.001511\\nbeta6             0.00554162      0.00165       3.3504             -    0.0022995    0.0087837\\nbeta7             0.00528298      0.00177       2.9763             -    0.0018037    0.0087622\\nbeta8             -0.0105473     0.000672      -15.705             -    -0.011864   -0.0092309\\nbeta9             0.00406609     8.56e-05        47.48             -    0.0038982     0.004234\\nbeta10             0.0144565     0.000121       119.03             -     0.014218     0.014695\\nbreakpoint1      2.44417e+06     5.23e+03            -             -   2.4339e+06   2.4544e+06\\nbreakpoint2      2.44493e+06      2.3e+03            -             -   2.4404e+06   2.4494e+06\\nbreakpoint3      2.44612e+06     1.17e+03            -             -   2.4438e+06   2.4484e+06\\nbreakpoint4      2.44793e+06     1.62e+02            -             -   2.4476e+06   2.4483e+06\\nbreakpoint5      2.44878e+06     1.17e+02            -             -   2.4486e+06    2.449e+06\\nbreakpoint6      2.45043e+06         72.3            -             -   2.4503e+06   2.4506e+06\\nbreakpoint7      2.45082e+06         85.2            -             -   2.4507e+06    2.451e+06\\nbreakpoint8      2.45151e+06         27.7            -             -   2.4515e+06   2.4516e+06\\nbreakpoint9      2.45489e+06         41.7            -             -   2.4548e+06    2.455e+06\\nbreakpoint10     2.45836e+06         12.9            -             -   2.4583e+06   2.4584e+06\\n----------------------------------------------------------------------------------------------------\\nThese alphas(gradients of segments) are estimatedfrom betas(change in gradient)\\n----------------------------------------------------------------------------------------------------\\nalpha2           5.99948e-05     0.000571       0.1051         0.916   -0.0010589    0.0011789\\nalpha3           0.000201024     0.000297      0.67594         0.499  -0.00038193   0.00078397\\nalpha4            0.00042432     0.000157       2.7026       0.00689   0.00011656   0.00073208\\nalpha5            0.00221722     0.000492       4.5032      6.75e-06    0.0012521    0.0031823\\nalpha6          -0.000321152      0.00018      -1.7865         0.074  -0.00067351    3.121e-05\\nalpha7            0.00522047      0.00164       3.1751        0.0015    0.0019976    0.0084433\\nalpha8             0.0105034     0.000669       15.706      4.31e-55    0.0091926     0.011814\\nalpha9          -4.38169e-05     6.17e-05     -0.70995         0.478  -0.00016479    7.716e-05\\nalpha10           0.00402228     5.94e-05        67.75           0.0    0.0039059    0.0041386\\nalpha11            0.0184788     0.000106       174.41           0.0     0.018271     0.018686\\n====================================================================================================\\nDavies test for existence of at least 1 breakpoint: p=0.0 (e.g. p<0.05 means reject null hypothesis of no breakpoints at 5% significance)\\n\\n'"
            ],
            "application/vnd.google.colaboratory.intrinsic+json": {
              "type": "string"
            }
          },
          "metadata": {},
          "execution_count": 46
        }
      ]
    },
    {
      "cell_type": "code",
      "source": [
        "plt.plot(df2.index, Y, label = \"original Data\")\n",
        "plt.plot(df2.index, pw_fit.predict(X), label = \"Segmented Trend\")\n",
        "plt.xlabel(\"Date\")\n",
        "plt.ylabel(\"Close Price\")\n",
        "plt.legend()\n",
        "plt.show()"
      ],
      "metadata": {
        "id": "CpDJZZj-qmHJ",
        "outputId": "099fa0e6-939c-4128-daac-b9d84415503b",
        "colab": {
          "base_uri": "https://localhost:8080/",
          "height": 449
        }
      },
      "execution_count": 47,
      "outputs": [
        {
          "output_type": "display_data",
          "data": {
            "text/plain": [
              "<Figure size 640x480 with 1 Axes>"
            ],
            "image/png": "[encoded data removed]"
          },
          "metadata": {}
        }
      ]
    },
    {
      "cell_type": "markdown",
      "source": [
        "Simple Moving Averages"
      ],
      "metadata": {
        "id": "f9Yf1mL_s_D7"
      }
    },
    {
      "cell_type": "code",
      "source": [
        "df2['SMA_60'] = df2['Close'].rolling(window = 60).mean()\n",
        "\n",
        "plt.figure(figsize = (12, 6))\n",
        "plt.plot(df2['Close'], label = 'Close Price')\n",
        "plt.plot(df2['SMA_60'], label = 'SMA_60')\n",
        "plt.title('Simple Moving Averages')\n",
        "plt.xlabel('Date')\n",
        "plt.ylabel('Close Price')\n",
        "plt.legend()\n",
        "plt.show()"
      ],
      "metadata": {
        "id": "xJx29W-nrKY0",
        "outputId": "75246abf-99d5-42f9-cdce-93d691b85850",
        "colab": {
          "base_uri": "https://localhost:8080/",
          "height": 360
        }
      },
      "execution_count": 50,
      "outputs": [
        {
          "output_type": "display_data",
          "data": {
            "text/plain": [
              "<Figure size 1200x600 with 1 Axes>"
            ],
            "image/png": "[encoded data removed]"
          },
          "metadata": {}
        }
      ]
    },
    {
      "cell_type": "code",
      "source": [],
      "metadata": {
        "id": "MhYZAZOPt56N"
      },
      "execution_count": null,
      "outputs": []
    }
  ]
}